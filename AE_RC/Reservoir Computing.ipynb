{
 "cells": [
  {
   "cell_type": "code",
   "execution_count": 1,
   "id": "69a6bf97",
   "metadata": {},
   "outputs": [],
   "source": [
    "import numpy as np\n",
    "import pandas as pd\n",
    "import matplotlib.pyplot as plt\n",
    "from sklearn.preprocessing import MinMaxScaler\n",
    "from sklearn.model_selection import train_test_split\n",
    "from sklearn.metrics import mean_squared_error\n",
    "import tensorflow as tf\n",
    "from tensorflow.keras.models import Sequential\n",
    "from tensorflow.keras.layers import LSTM, Dense, RepeatVector, TimeDistributed, Input\n",
    "from tensorflow.keras import Model\n",
    "from tensorflow import keras\n",
    "import sys\n",
    "sys.path.append(\"..\")   # add parent directory to Python path\n",
    "import functions\n",
    "from pathlib import Path\n",
    "from reservoirpy.nodes import Reservoir, Ridge"
   ]
  },
  {
   "cell_type": "code",
   "execution_count": 24,
   "id": "a864b844",
   "metadata": {},
   "outputs": [
    {
     "name": "stderr",
     "output_type": "stream",
     "text": [
      "<>:27: SyntaxWarning: invalid escape sequence '\\D'\n",
      "<>:27: SyntaxWarning: invalid escape sequence '\\D'\n",
      "C:\\Users\\11061\\AppData\\Local\\Temp\\ipykernel_11900\\791444497.py:27: SyntaxWarning: invalid escape sequence '\\D'\n",
      "  folder = Path(\"D:\\Documents\\GitHub\\ML_cardiac_prediction\\data\")\n"
     ]
    }
   ],
   "source": [
    "class autoEncoder:\n",
    "    def __init__(self, sequence_length, first_layer_dim = 128, second_layer_dim = 32):\n",
    "        self.sequence_length = sequence_length\n",
    "        self.first_layer_dim = first_layer_dim\n",
    "        self.second_layer_dim = second_layer_dim\n",
    "        self.model = self.build_model()\n",
    "        self.X_train,self.X_test, self.Y_train, self.Y_test = self.get_data()\n",
    "        self.model_is_fitted = False\n",
    "    def build_model(self):\n",
    "        self.model = Sequential()\n",
    "\n",
    "        # Encoder part\n",
    "        self.model.add(LSTM(self.first_layer_dim, return_sequences=True, input_shape=(self.sequence_length, 1)))\n",
    "        self.model.add(LSTM(self.second_layer_dim, return_sequences=True))\n",
    "\n",
    "        # Decoder part  \n",
    "        self.model.add(LSTM(self.first_layer_dim, return_sequences=True))\n",
    "        self.model.add(TimeDistributed(Dense(1)))  # Output (batch, time, 1), TimeDistributed helps to handle all dim after second ones\n",
    "        \n",
    "        self.model.summary()\n",
    "        self.model.compile(optimizer='adam', loss='mse')\n",
    "        return self.model\n",
    "\n",
    "    def get_data(self, test_size=0.2):\n",
    "        data_lst = []\n",
    "        scaler = MinMaxScaler(feature_range=(0,1))\n",
    "        folder = Path(\"D:\\Documents\\GitHub\\ML_cardiac_prediction\\data\")\n",
    "        for p in folder.glob(\"*.csv\"):   # use rglob(\"*.csv\") for subfolders\n",
    "            voltage = functions.load_voltage(p)\n",
    "            if len(voltage) <= self.sequence_length:\n",
    "                continue\n",
    "            scaled_voltage = scaler.fit_transform(voltage.reshape(-1, 1))\n",
    "            data_lst.append(scaled_voltage)\n",
    "        X = []\n",
    "        Y = []\n",
    "        for scaled_voltage in data_lst:\n",
    "            X.append(scaled_voltage[0:self.sequence_length, 0])\n",
    "            Y.append(scaled_voltage[1:self.sequence_length + 1, 0])\n",
    "        X = np.array(X)\n",
    "        Y = np.array(Y)\n",
    "        X_train, X_test, Y_train, Y_test = train_test_split(X, Y, test_size=test_size,  shuffle=False)\n",
    "\n",
    "        X_train = X_train.reshape((X_train.shape[0], X_train.shape[1], 1))\n",
    "        X_test = X_test.reshape((X_test.shape[0], X_test.shape[1], 1))\n",
    "        return X_train, X_test , Y_train, Y_test\n",
    "    \n",
    "    def train(self, epochs=30, batch_size=1,save_model=True):\n",
    "        history = self.model.fit(self.X_train, self.X_train,\n",
    "                                validation_data=(self.X_test, self.X_test),\n",
    "                                epochs=epochs, \n",
    "                                batch_size=batch_size)\n",
    "        self.model_is_fitted = True   \n",
    "        print(self.test())\n",
    "        if save_model:\n",
    "            self.model.save(f\"AE_seql_{self.sequence_length}_firstL_{self.first_layer_dim}_secondL_{self.second_layer_dim}_epochs_{epochs}.keras\")\n",
    "            \n",
    "        encoder, decoder = self.get_encoder_decoder()\n",
    "        return encoder, decoder, history\n",
    "    def get_encoder_decoder(self):\n",
    "        if not self.model_is_fitted:\n",
    "            raise ValueError(\"Model is not fitted or loaded. Please build or load a model first.\")\n",
    "        encoder = Model(inputs=self.model.layers[0].input,\n",
    "                        outputs=self.model.layers[1].output)\n",
    "        # Decoder (create independent input)\n",
    "        \n",
    "        latent_input = tf.keras.Input(shape=(self.sequence_length, self.second_layer_dim))\n",
    "        x = self.model.layers[2](latent_input)\n",
    "        \n",
    "        decoder_output = self.model.layers[3](x)\n",
    "        decoder = Model(inputs=latent_input, outputs=decoder_output)\n",
    "        return encoder, decoder\n",
    "    \n",
    "    def load_model(self, model_path=\"AE_seql_4500_firstL_128_secondL_32_epochs_60.keras\"):\n",
    "        self.model = keras.models.load_model(model_path)\n",
    "        self.model_is_fitted = True\n",
    "        self.first_layer_dim = self.model.layers[0].units\n",
    "        self.second_layer_dim = self.model.layers[1].units\n",
    "        self.sequence_length = self.model.input_shape[1]\n",
    "        return self.model\n",
    "    \n",
    "    def test(self):\n",
    "        if not self.model_is_fitted:\n",
    "            raise ValueError(\"Model is not fitted or loaded. Please build or load a model first.\")\n",
    "        X_test_pred = self.model.predict(self.X_test)\n",
    "        rmse = np.sqrt(mean_squared_error(self.X_test.flatten(), X_test_pred.flatten()))\n",
    "        print(f\"Test Loss: {rmse}\")\n",
    "        return rmse\n",
    "    \n",
    "    \n",
    "    "
   ]
  },
  {
   "cell_type": "code",
   "execution_count": 3,
   "id": "de8081b4",
   "metadata": {},
   "outputs": [
    {
     "name": "stderr",
     "output_type": "stream",
     "text": [
      "d:\\Anaconda\\envs\\lstm\\Lib\\site-packages\\keras\\src\\layers\\rnn\\rnn.py:199: UserWarning: Do not pass an `input_shape`/`input_dim` argument to a layer. When using Sequential models, prefer using an `Input(shape)` object as the first layer in the model instead.\n",
      "  super().__init__(**kwargs)\n"
     ]
    },
    {
     "data": {
      "text/html": [
       "<pre style=\"white-space:pre;overflow-x:auto;line-height:normal;font-family:Menlo,'DejaVu Sans Mono',consolas,'Courier New',monospace\"><span style=\"font-weight: bold\">Model: \"sequential\"</span>\n",
       "</pre>\n"
      ],
      "text/plain": [
       "\u001b[1mModel: \"sequential\"\u001b[0m\n"
      ]
     },
     "metadata": {},
     "output_type": "display_data"
    },
    {
     "data": {
      "text/html": [
       "<pre style=\"white-space:pre;overflow-x:auto;line-height:normal;font-family:Menlo,'DejaVu Sans Mono',consolas,'Courier New',monospace\">┏━━━━━━━━━━━━━━━━━━━━━━━━━━━━━━━━━┳━━━━━━━━━━━━━━━━━━━━━━━━┳━━━━━━━━━━━━━━━┓\n",
       "┃<span style=\"font-weight: bold\"> Layer (type)                    </span>┃<span style=\"font-weight: bold\"> Output Shape           </span>┃<span style=\"font-weight: bold\">       Param # </span>┃\n",
       "┡━━━━━━━━━━━━━━━━━━━━━━━━━━━━━━━━━╇━━━━━━━━━━━━━━━━━━━━━━━━╇━━━━━━━━━━━━━━━┩\n",
       "│ lstm (<span style=\"color: #0087ff; text-decoration-color: #0087ff\">LSTM</span>)                     │ (<span style=\"color: #00d7ff; text-decoration-color: #00d7ff\">None</span>, <span style=\"color: #00af00; text-decoration-color: #00af00\">5000</span>, <span style=\"color: #00af00; text-decoration-color: #00af00\">128</span>)      │        <span style=\"color: #00af00; text-decoration-color: #00af00\">66,560</span> │\n",
       "├─────────────────────────────────┼────────────────────────┼───────────────┤\n",
       "│ lstm_1 (<span style=\"color: #0087ff; text-decoration-color: #0087ff\">LSTM</span>)                   │ (<span style=\"color: #00d7ff; text-decoration-color: #00d7ff\">None</span>, <span style=\"color: #00af00; text-decoration-color: #00af00\">5000</span>, <span style=\"color: #00af00; text-decoration-color: #00af00\">32</span>)       │        <span style=\"color: #00af00; text-decoration-color: #00af00\">20,608</span> │\n",
       "├─────────────────────────────────┼────────────────────────┼───────────────┤\n",
       "│ lstm_2 (<span style=\"color: #0087ff; text-decoration-color: #0087ff\">LSTM</span>)                   │ (<span style=\"color: #00d7ff; text-decoration-color: #00d7ff\">None</span>, <span style=\"color: #00af00; text-decoration-color: #00af00\">5000</span>, <span style=\"color: #00af00; text-decoration-color: #00af00\">128</span>)      │        <span style=\"color: #00af00; text-decoration-color: #00af00\">82,432</span> │\n",
       "├─────────────────────────────────┼────────────────────────┼───────────────┤\n",
       "│ time_distributed                │ (<span style=\"color: #00d7ff; text-decoration-color: #00d7ff\">None</span>, <span style=\"color: #00af00; text-decoration-color: #00af00\">5000</span>, <span style=\"color: #00af00; text-decoration-color: #00af00\">1</span>)        │           <span style=\"color: #00af00; text-decoration-color: #00af00\">129</span> │\n",
       "│ (<span style=\"color: #0087ff; text-decoration-color: #0087ff\">TimeDistributed</span>)               │                        │               │\n",
       "└─────────────────────────────────┴────────────────────────┴───────────────┘\n",
       "</pre>\n"
      ],
      "text/plain": [
       "┏━━━━━━━━━━━━━━━━━━━━━━━━━━━━━━━━━┳━━━━━━━━━━━━━━━━━━━━━━━━┳━━━━━━━━━━━━━━━┓\n",
       "┃\u001b[1m \u001b[0m\u001b[1mLayer (type)                   \u001b[0m\u001b[1m \u001b[0m┃\u001b[1m \u001b[0m\u001b[1mOutput Shape          \u001b[0m\u001b[1m \u001b[0m┃\u001b[1m \u001b[0m\u001b[1m      Param #\u001b[0m\u001b[1m \u001b[0m┃\n",
       "┡━━━━━━━━━━━━━━━━━━━━━━━━━━━━━━━━━╇━━━━━━━━━━━━━━━━━━━━━━━━╇━━━━━━━━━━━━━━━┩\n",
       "│ lstm (\u001b[38;5;33mLSTM\u001b[0m)                     │ (\u001b[38;5;45mNone\u001b[0m, \u001b[38;5;34m5000\u001b[0m, \u001b[38;5;34m128\u001b[0m)      │        \u001b[38;5;34m66,560\u001b[0m │\n",
       "├─────────────────────────────────┼────────────────────────┼───────────────┤\n",
       "│ lstm_1 (\u001b[38;5;33mLSTM\u001b[0m)                   │ (\u001b[38;5;45mNone\u001b[0m, \u001b[38;5;34m5000\u001b[0m, \u001b[38;5;34m32\u001b[0m)       │        \u001b[38;5;34m20,608\u001b[0m │\n",
       "├─────────────────────────────────┼────────────────────────┼───────────────┤\n",
       "│ lstm_2 (\u001b[38;5;33mLSTM\u001b[0m)                   │ (\u001b[38;5;45mNone\u001b[0m, \u001b[38;5;34m5000\u001b[0m, \u001b[38;5;34m128\u001b[0m)      │        \u001b[38;5;34m82,432\u001b[0m │\n",
       "├─────────────────────────────────┼────────────────────────┼───────────────┤\n",
       "│ time_distributed                │ (\u001b[38;5;45mNone\u001b[0m, \u001b[38;5;34m5000\u001b[0m, \u001b[38;5;34m1\u001b[0m)        │           \u001b[38;5;34m129\u001b[0m │\n",
       "│ (\u001b[38;5;33mTimeDistributed\u001b[0m)               │                        │               │\n",
       "└─────────────────────────────────┴────────────────────────┴───────────────┘\n"
      ]
     },
     "metadata": {},
     "output_type": "display_data"
    },
    {
     "data": {
      "text/html": [
       "<pre style=\"white-space:pre;overflow-x:auto;line-height:normal;font-family:Menlo,'DejaVu Sans Mono',consolas,'Courier New',monospace\"><span style=\"font-weight: bold\"> Total params: </span><span style=\"color: #00af00; text-decoration-color: #00af00\">169,729</span> (663.00 KB)\n",
       "</pre>\n"
      ],
      "text/plain": [
       "\u001b[1m Total params: \u001b[0m\u001b[38;5;34m169,729\u001b[0m (663.00 KB)\n"
      ]
     },
     "metadata": {},
     "output_type": "display_data"
    },
    {
     "data": {
      "text/html": [
       "<pre style=\"white-space:pre;overflow-x:auto;line-height:normal;font-family:Menlo,'DejaVu Sans Mono',consolas,'Courier New',monospace\"><span style=\"font-weight: bold\"> Trainable params: </span><span style=\"color: #00af00; text-decoration-color: #00af00\">169,729</span> (663.00 KB)\n",
       "</pre>\n"
      ],
      "text/plain": [
       "\u001b[1m Trainable params: \u001b[0m\u001b[38;5;34m169,729\u001b[0m (663.00 KB)\n"
      ]
     },
     "metadata": {},
     "output_type": "display_data"
    },
    {
     "data": {
      "text/html": [
       "<pre style=\"white-space:pre;overflow-x:auto;line-height:normal;font-family:Menlo,'DejaVu Sans Mono',consolas,'Courier New',monospace\"><span style=\"font-weight: bold\"> Non-trainable params: </span><span style=\"color: #00af00; text-decoration-color: #00af00\">0</span> (0.00 B)\n",
       "</pre>\n"
      ],
      "text/plain": [
       "\u001b[1m Non-trainable params: \u001b[0m\u001b[38;5;34m0\u001b[0m (0.00 B)\n"
      ]
     },
     "metadata": {},
     "output_type": "display_data"
    }
   ],
   "source": [
    "model = autoEncoder(5000)"
   ]
  },
  {
   "cell_type": "code",
   "execution_count": 6,
   "id": "bade64a9",
   "metadata": {},
   "outputs": [
    {
     "name": "stdout",
     "output_type": "stream",
     "text": [
      "Epoch 1/30\n",
      "\u001b[1m16/16\u001b[0m \u001b[32m━━━━━━━━━━━━━━━━━━━━\u001b[0m\u001b[37m\u001b[0m \u001b[1m98s\u001b[0m 6s/step - loss: 0.0358 - val_loss: 0.0328\n",
      "Epoch 2/30\n",
      "\u001b[1m16/16\u001b[0m \u001b[32m━━━━━━━━━━━━━━━━━━━━\u001b[0m\u001b[37m\u001b[0m \u001b[1m96s\u001b[0m 6s/step - loss: 0.0298 - val_loss: 0.0274\n",
      "Epoch 3/30\n",
      "\u001b[1m16/16\u001b[0m \u001b[32m━━━━━━━━━━━━━━━━━━━━\u001b[0m\u001b[37m\u001b[0m \u001b[1m99s\u001b[0m 6s/step - loss: 0.0250 - val_loss: 0.0231\n",
      "Epoch 4/30\n",
      "\u001b[1m16/16\u001b[0m \u001b[32m━━━━━━━━━━━━━━━━━━━━\u001b[0m\u001b[37m\u001b[0m \u001b[1m96s\u001b[0m 6s/step - loss: 0.0212 - val_loss: 0.0194\n",
      "Epoch 5/30\n",
      "\u001b[1m16/16\u001b[0m \u001b[32m━━━━━━━━━━━━━━━━━━━━\u001b[0m\u001b[37m\u001b[0m \u001b[1m97s\u001b[0m 6s/step - loss: 0.0183 - val_loss: 0.0167\n",
      "Epoch 6/30\n",
      "\u001b[1m16/16\u001b[0m \u001b[32m━━━━━━━━━━━━━━━━━━━━\u001b[0m\u001b[37m\u001b[0m \u001b[1m101s\u001b[0m 6s/step - loss: 0.0160 - val_loss: 0.0143\n",
      "Epoch 7/30\n",
      "\u001b[1m16/16\u001b[0m \u001b[32m━━━━━━━━━━━━━━━━━━━━\u001b[0m\u001b[37m\u001b[0m \u001b[1m97s\u001b[0m 6s/step - loss: 0.0133 - val_loss: 0.0112\n",
      "Epoch 8/30\n",
      "\u001b[1m16/16\u001b[0m \u001b[32m━━━━━━━━━━━━━━━━━━━━\u001b[0m\u001b[37m\u001b[0m \u001b[1m99s\u001b[0m 6s/step - loss: 0.0176 - val_loss: 0.0169\n",
      "Epoch 9/30\n",
      "\u001b[1m16/16\u001b[0m \u001b[32m━━━━━━━━━━━━━━━━━━━━\u001b[0m\u001b[37m\u001b[0m \u001b[1m96s\u001b[0m 6s/step - loss: 0.0127 - val_loss: 0.0110\n",
      "Epoch 10/30\n",
      "\u001b[1m16/16\u001b[0m \u001b[32m━━━━━━━━━━━━━━━━━━━━\u001b[0m\u001b[37m\u001b[0m \u001b[1m96s\u001b[0m 6s/step - loss: 0.0105 - val_loss: 0.0096\n",
      "Epoch 11/30\n",
      "\u001b[1m16/16\u001b[0m \u001b[32m━━━━━━━━━━━━━━━━━━━━\u001b[0m\u001b[37m\u001b[0m \u001b[1m96s\u001b[0m 6s/step - loss: 0.0091 - val_loss: 0.0081\n",
      "Epoch 12/30\n",
      "\u001b[1m16/16\u001b[0m \u001b[32m━━━━━━━━━━━━━━━━━━━━\u001b[0m\u001b[37m\u001b[0m \u001b[1m96s\u001b[0m 6s/step - loss: 0.0078 - val_loss: 0.0069\n",
      "Epoch 13/30\n",
      "\u001b[1m16/16\u001b[0m \u001b[32m━━━━━━━━━━━━━━━━━━━━\u001b[0m\u001b[37m\u001b[0m \u001b[1m95s\u001b[0m 6s/step - loss: 0.0066 - val_loss: 0.0055\n",
      "Epoch 14/30\n",
      "\u001b[1m16/16\u001b[0m \u001b[32m━━━━━━━━━━━━━━━━━━━━\u001b[0m\u001b[37m\u001b[0m \u001b[1m97s\u001b[0m 6s/step - loss: 0.0049 - val_loss: 0.0032\n",
      "Epoch 15/30\n",
      "\u001b[1m16/16\u001b[0m \u001b[32m━━━━━━━━━━━━━━━━━━━━\u001b[0m\u001b[37m\u001b[0m \u001b[1m97s\u001b[0m 6s/step - loss: 0.0177 - val_loss: 0.0078\n",
      "Epoch 16/30\n",
      "\u001b[1m16/16\u001b[0m \u001b[32m━━━━━━━━━━━━━━━━━━━━\u001b[0m\u001b[37m\u001b[0m \u001b[1m94s\u001b[0m 6s/step - loss: 0.0082 - val_loss: 0.0064\n",
      "Epoch 17/30\n",
      "\u001b[1m16/16\u001b[0m \u001b[32m━━━━━━━━━━━━━━━━━━━━\u001b[0m\u001b[37m\u001b[0m \u001b[1m93s\u001b[0m 6s/step - loss: 0.0058 - val_loss: 0.0049\n",
      "Epoch 18/30\n",
      "\u001b[1m16/16\u001b[0m \u001b[32m━━━━━━━━━━━━━━━━━━━━\u001b[0m\u001b[37m\u001b[0m \u001b[1m91s\u001b[0m 6s/step - loss: 0.0049 - val_loss: 0.0041\n",
      "Epoch 19/30\n",
      "\u001b[1m16/16\u001b[0m \u001b[32m━━━━━━━━━━━━━━━━━━━━\u001b[0m\u001b[37m\u001b[0m \u001b[1m93s\u001b[0m 6s/step - loss: 0.0041 - val_loss: 0.0035\n",
      "Epoch 20/30\n",
      "\u001b[1m16/16\u001b[0m \u001b[32m━━━━━━━━━━━━━━━━━━━━\u001b[0m\u001b[37m\u001b[0m \u001b[1m92s\u001b[0m 6s/step - loss: 0.0035 - val_loss: 0.0030\n",
      "Epoch 21/30\n",
      "\u001b[1m16/16\u001b[0m \u001b[32m━━━━━━━━━━━━━━━━━━━━\u001b[0m\u001b[37m\u001b[0m \u001b[1m93s\u001b[0m 6s/step - loss: 0.0030 - val_loss: 0.0025\n",
      "Epoch 22/30\n",
      "\u001b[1m16/16\u001b[0m \u001b[32m━━━━━━━━━━━━━━━━━━━━\u001b[0m\u001b[37m\u001b[0m \u001b[1m89s\u001b[0m 6s/step - loss: 0.0025 - val_loss: 0.0020\n",
      "Epoch 23/30\n",
      "\u001b[1m16/16\u001b[0m \u001b[32m━━━━━━━━━━━━━━━━━━━━\u001b[0m\u001b[37m\u001b[0m \u001b[1m89s\u001b[0m 6s/step - loss: 0.0019 - val_loss: 0.0015\n",
      "Epoch 24/30\n",
      "\u001b[1m16/16\u001b[0m \u001b[32m━━━━━━━━━━━━━━━━━━━━\u001b[0m\u001b[37m\u001b[0m \u001b[1m91s\u001b[0m 6s/step - loss: 0.0015 - val_loss: 0.0011\n",
      "Epoch 25/30\n",
      "\u001b[1m16/16\u001b[0m \u001b[32m━━━━━━━━━━━━━━━━━━━━\u001b[0m\u001b[37m\u001b[0m \u001b[1m93s\u001b[0m 6s/step - loss: 0.0011 - val_loss: 7.6708e-04\n",
      "Epoch 26/30\n",
      "\u001b[1m16/16\u001b[0m \u001b[32m━━━━━━━━━━━━━━━━━━━━\u001b[0m\u001b[37m\u001b[0m \u001b[1m91s\u001b[0m 6s/step - loss: 7.2571e-04 - val_loss: 5.0242e-04\n",
      "Epoch 27/30\n",
      "\u001b[1m16/16\u001b[0m \u001b[32m━━━━━━━━━━━━━━━━━━━━\u001b[0m\u001b[37m\u001b[0m \u001b[1m92s\u001b[0m 6s/step - loss: 4.7651e-04 - val_loss: 3.2626e-04\n",
      "Epoch 28/30\n",
      "\u001b[1m16/16\u001b[0m \u001b[32m━━━━━━━━━━━━━━━━━━━━\u001b[0m\u001b[37m\u001b[0m \u001b[1m92s\u001b[0m 6s/step - loss: 3.2412e-04 - val_loss: 3.3265e-04\n",
      "Epoch 29/30\n",
      "\u001b[1m16/16\u001b[0m \u001b[32m━━━━━━━━━━━━━━━━━━━━\u001b[0m\u001b[37m\u001b[0m \u001b[1m92s\u001b[0m 6s/step - loss: 2.2147e-04 - val_loss: 5.8894e-04\n",
      "Epoch 30/30\n",
      "\u001b[1m16/16\u001b[0m \u001b[32m━━━━━━━━━━━━━━━━━━━━\u001b[0m\u001b[37m\u001b[0m \u001b[1m92s\u001b[0m 6s/step - loss: 2.2038e-04 - val_loss: 1.4341e-04\n",
      "\u001b[1m1/1\u001b[0m \u001b[32m━━━━━━━━━━━━━━━━━━━━\u001b[0m\u001b[37m\u001b[0m \u001b[1m1s\u001b[0m 968ms/step\n",
      "Test Loss: 0.011975239626229156\n",
      "0.011975239626229156\n"
     ]
    },
    {
     "data": {
      "text/plain": [
       "(<Functional name=functional_8, built=True>,\n",
       " <Functional name=functional_9, built=True>,\n",
       " <keras.src.callbacks.history.History at 0x282d93f7b10>)"
      ]
     },
     "execution_count": 6,
     "metadata": {},
     "output_type": "execute_result"
    }
   ],
   "source": [
    "model.train(epochs=30, batch_size=1)"
   ]
  },
  {
   "cell_type": "code",
   "execution_count": 26,
   "id": "47b7c5ae",
   "metadata": {},
   "outputs": [],
   "source": [
    "encoder,decoder = model.get_encoder_decoder()"
   ]
  },
  {
   "cell_type": "code",
   "execution_count": 33,
   "id": "5887a6d4",
   "metadata": {},
   "outputs": [],
   "source": [
    "scaler = MinMaxScaler(feature_range=(0,1))\n",
    "voltage = functions.load_voltage(r\"D:\\Documents\\GitHub\\ML_cardiac_prediction\\data\\tau_d_0.41_temporal_APD_step_4 (2).csv\")\n",
    "scaled_voltage = scaler.fit_transform(voltage.reshape(-1, 1))"
   ]
  },
  {
   "cell_type": "code",
   "execution_count": 34,
   "id": "04af8466",
   "metadata": {},
   "outputs": [
    {
     "name": "stdout",
     "output_type": "stream",
     "text": [
      "(1, 25000, 1)\n"
     ]
    }
   ],
   "source": [
    "scaled_voltage  = np.expand_dims(scaled_voltage, axis=0)\n",
    "print(scaled_voltage.shape)"
   ]
  },
  {
   "cell_type": "code",
   "execution_count": 35,
   "id": "99ae94f3",
   "metadata": {},
   "outputs": [
    {
     "ename": "ValueError",
     "evalue": "Input 0 of layer \"functional_10\" is incompatible with the layer: expected shape=(None, 5000, 1), found shape=(1, 25000)",
     "output_type": "error",
     "traceback": [
      "\u001b[31m---------------------------------------------------------------------------\u001b[39m",
      "\u001b[31mValueError\u001b[39m                                Traceback (most recent call last)",
      "\u001b[36mCell\u001b[39m\u001b[36m \u001b[39m\u001b[32mIn[35]\u001b[39m\u001b[32m, line 1\u001b[39m\n\u001b[32m----> \u001b[39m\u001b[32m1\u001b[39m latent_scaled_voltage = \u001b[43mencoder\u001b[49m\u001b[43m.\u001b[49m\u001b[43mpredict\u001b[49m\u001b[43m(\u001b[49m\u001b[43mscaled_voltage\u001b[49m\u001b[43m)\u001b[49m\n\u001b[32m      2\u001b[39m latent_back_scaled_voltage = decoder.predict(latent_scaled_voltage)\n\u001b[32m      3\u001b[39m \u001b[38;5;28mprint\u001b[39m(np.sqrt(mean_squared_error(scaled_voltage.flatten(), latent_back_scaled_voltage.flatten())))\n",
      "\u001b[36mFile \u001b[39m\u001b[32md:\\Anaconda\\envs\\lstm\\Lib\\site-packages\\keras\\src\\utils\\traceback_utils.py:122\u001b[39m, in \u001b[36mfilter_traceback.<locals>.error_handler\u001b[39m\u001b[34m(*args, **kwargs)\u001b[39m\n\u001b[32m    119\u001b[39m     filtered_tb = _process_traceback_frames(e.__traceback__)\n\u001b[32m    120\u001b[39m     \u001b[38;5;66;03m# To get the full stack trace, call:\u001b[39;00m\n\u001b[32m    121\u001b[39m     \u001b[38;5;66;03m# `keras.config.disable_traceback_filtering()`\u001b[39;00m\n\u001b[32m--> \u001b[39m\u001b[32m122\u001b[39m     \u001b[38;5;28;01mraise\u001b[39;00m e.with_traceback(filtered_tb) \u001b[38;5;28;01mfrom\u001b[39;00m\u001b[38;5;250m \u001b[39m\u001b[38;5;28;01mNone\u001b[39;00m\n\u001b[32m    123\u001b[39m \u001b[38;5;28;01mfinally\u001b[39;00m:\n\u001b[32m    124\u001b[39m     \u001b[38;5;28;01mdel\u001b[39;00m filtered_tb\n",
      "\u001b[36mFile \u001b[39m\u001b[32md:\\Anaconda\\envs\\lstm\\Lib\\site-packages\\keras\\src\\layers\\input_spec.py:245\u001b[39m, in \u001b[36massert_input_compatibility\u001b[39m\u001b[34m(input_spec, inputs, layer_name)\u001b[39m\n\u001b[32m    243\u001b[39m \u001b[38;5;28;01mif\u001b[39;00m spec_dim \u001b[38;5;129;01mis\u001b[39;00m \u001b[38;5;129;01mnot\u001b[39;00m \u001b[38;5;28;01mNone\u001b[39;00m \u001b[38;5;129;01mand\u001b[39;00m dim \u001b[38;5;129;01mis\u001b[39;00m \u001b[38;5;129;01mnot\u001b[39;00m \u001b[38;5;28;01mNone\u001b[39;00m:\n\u001b[32m    244\u001b[39m     \u001b[38;5;28;01mif\u001b[39;00m spec_dim != dim:\n\u001b[32m--> \u001b[39m\u001b[32m245\u001b[39m         \u001b[38;5;28;01mraise\u001b[39;00m \u001b[38;5;167;01mValueError\u001b[39;00m(\n\u001b[32m    246\u001b[39m             \u001b[33mf\u001b[39m\u001b[33m'\u001b[39m\u001b[33mInput \u001b[39m\u001b[38;5;132;01m{\u001b[39;00minput_index\u001b[38;5;132;01m}\u001b[39;00m\u001b[33m of layer \u001b[39m\u001b[33m\"\u001b[39m\u001b[38;5;132;01m{\u001b[39;00mlayer_name\u001b[38;5;132;01m}\u001b[39;00m\u001b[33m\"\u001b[39m\u001b[33m is \u001b[39m\u001b[33m'\u001b[39m\n\u001b[32m    247\u001b[39m             \u001b[33m\"\u001b[39m\u001b[33mincompatible with the layer: \u001b[39m\u001b[33m\"\u001b[39m\n\u001b[32m    248\u001b[39m             \u001b[33mf\u001b[39m\u001b[33m\"\u001b[39m\u001b[33mexpected shape=\u001b[39m\u001b[38;5;132;01m{\u001b[39;00mspec.shape\u001b[38;5;132;01m}\u001b[39;00m\u001b[33m, \u001b[39m\u001b[33m\"\u001b[39m\n\u001b[32m    249\u001b[39m             \u001b[33mf\u001b[39m\u001b[33m\"\u001b[39m\u001b[33mfound shape=\u001b[39m\u001b[38;5;132;01m{\u001b[39;00mshape\u001b[38;5;132;01m}\u001b[39;00m\u001b[33m\"\u001b[39m\n\u001b[32m    250\u001b[39m         )\n",
      "\u001b[31mValueError\u001b[39m: Input 0 of layer \"functional_10\" is incompatible with the layer: expected shape=(None, 5000, 1), found shape=(1, 25000)"
     ]
    }
   ],
   "source": [
    "latent_scaled_voltage = encoder.predict(scaled_voltage)\n",
    "latent_back_scaled_voltage = decoder.predict(latent_scaled_voltage)\n",
    "print(np.sqrt(mean_squared_error(scaled_voltage.flatten(), latent_back_scaled_voltage.flatten())))"
   ]
  },
  {
   "cell_type": "code",
   "execution_count": null,
   "id": "cd1ed952",
   "metadata": {},
   "outputs": [
    {
     "name": "stdout",
     "output_type": "stream",
     "text": [
      "\u001b[1m1/1\u001b[0m \u001b[32m━━━━━━━━━━━━━━━━━━━━\u001b[0m\u001b[37m\u001b[0m \u001b[1m1s\u001b[0m 1s/step\n"
     ]
    },
    {
     "data": {
      "text/plain": [
       "(16, 5000, 32)"
      ]
     },
     "execution_count": 14,
     "metadata": {},
     "output_type": "execute_result"
    }
   ],
   "source": [
    "latent_X_train = encoder.predict(model.X_train[:,:,:])\n",
    "latent_X_train.shape"
   ]
  },
  {
   "cell_type": "code",
   "execution_count": 21,
   "id": "53dff23e",
   "metadata": {},
   "outputs": [
    {
     "data": {
      "text/plain": [
       "(16, 5000, 1)"
      ]
     },
     "execution_count": 21,
     "metadata": {},
     "output_type": "execute_result"
    }
   ],
   "source": [
    "model.X_train.shape"
   ]
  },
  {
   "cell_type": "code",
   "execution_count": 17,
   "id": "61c50c82",
   "metadata": {},
   "outputs": [
    {
     "ename": "IndexError",
     "evalue": "too many indices for array: array is 2-dimensional, but 3 were indexed",
     "output_type": "error",
     "traceback": [
      "\u001b[31m---------------------------------------------------------------------------\u001b[39m",
      "\u001b[31mIndexError\u001b[39m                                Traceback (most recent call last)",
      "\u001b[36mCell\u001b[39m\u001b[36m \u001b[39m\u001b[32mIn[17]\u001b[39m\u001b[32m, line 1\u001b[39m\n\u001b[32m----> \u001b[39m\u001b[32m1\u001b[39m latent_Y_train = encoder.predict(\u001b[43mmodel\u001b[49m\u001b[43m.\u001b[49m\u001b[43mY_train\u001b[49m\u001b[43m[\u001b[49m\u001b[43m:\u001b[49m\u001b[43m,\u001b[49m\u001b[43m:\u001b[49m\u001b[43m,\u001b[49m\u001b[43m:\u001b[49m\u001b[43m]\u001b[49m)\n\u001b[32m      2\u001b[39m latent_Y_train.shape\n",
      "\u001b[31mIndexError\u001b[39m: too many indices for array: array is 2-dimensional, but 3 were indexed"
     ]
    }
   ],
   "source": [
    "latent_Y_train = encoder.predict(model.Y_train[:,:,:])\n",
    "latent_Y_train.shape"
   ]
  },
  {
   "cell_type": "code",
   "execution_count": 13,
   "id": "21620d3d",
   "metadata": {},
   "outputs": [],
   "source": [
    "\n",
    "# ---- Give your data sizes names you can fill in ----\n",
    "N_IN  = 1   # number of input features  (you set this)\n",
    "N_OUT = 32   # number of output targets (you set this)\n",
    "\n",
    "# ---- Hyperparameters: defaults chosen from the bold values in your table ----\n",
    "nr        = 500     # units (n_r)\n",
    "sigma_in  = 0.10    # input_scaling (σ_in)\n",
    "rho       = 1.15    # sr (spectral radius)\n",
    "alpha     = 0.90    # lr (leaking rate)\n",
    "lam       = 1e-3    # ridge regularization (λ)\n",
    "pr        = 0.2    # connection probability for recurrent matrix (p_r)\n",
    "pin       = 0.10    # (optional) input connectivity; set if you want to control Win sparsity\n",
    "\n",
    "reservoir = Reservoir(\n",
    "    units=nr,\n",
    "    lr=alpha,\n",
    "    sr=rho,\n",
    "    input_scaling=sigma_in,\n",
    "    rc_connectivity=pr,        # recurrent sparsity (your p_r)\n",
    "    input_connectivity=pin,    # input sparsity (optional)\n",
    "    seed=29,\n",
    "    \n",
    ")\n",
    "\n",
    "readout = Ridge(ridge=lam, input_dim=nr, output_dim=N_OUT)\n",
    "\n",
    "esn = reservoir >> readout\n",
    "# Shapes you should provide:\n",
    "# X: (T, N_IN)    Y: (T, N_OUT)\n",
    "# esn = esn.fit(X, Y)\n",
    "# Yhat = esn.run(X)\n"
   ]
  },
  {
   "cell_type": "code",
   "execution_count": 22,
   "id": "edb6b94c",
   "metadata": {},
   "outputs": [],
   "source": [
    "esn = esn.fit(latent_X_train[0],latent_Y_train[0])"
   ]
  },
  {
   "cell_type": "code",
   "execution_count": null,
   "id": "efd7d9f7",
   "metadata": {},
   "outputs": [
    {
     "name": "stdout",
     "output_type": "stream",
     "text": [
      "(32,)\n"
     ]
    }
   ],
   "source": [
    "Y_pred = []\n",
    "x = latent_X_train[0,4500-1,:]\n",
    "print(x.shape)\n",
    "for _ in range(4500):\n",
    "    x = esn(x)\n",
    "    Y_pred.append(x)\n"
   ]
  },
  {
   "cell_type": "code",
   "execution_count": 29,
   "id": "a6369d94",
   "metadata": {},
   "outputs": [
    {
     "data": {
      "text/plain": [
       "(4500, 32)"
      ]
     },
     "execution_count": 29,
     "metadata": {},
     "output_type": "execute_result"
    }
   ],
   "source": [
    "np.array(Y_pred).shape"
   ]
  },
  {
   "cell_type": "code",
   "execution_count": null,
   "id": "59940dbf",
   "metadata": {},
   "outputs": [
    {
     "name": "stdout",
     "output_type": "stream",
     "text": [
      "\u001b[1m1/1\u001b[0m \u001b[32m━━━━━━━━━━━━━━━━━━━━\u001b[0m\u001b[37m\u001b[0m \u001b[1m20s\u001b[0m 20s/step\n"
     ]
    },
    {
     "data": {
      "text/plain": [
       "(1, 4500, 1)"
      ]
     },
     "execution_count": 31,
     "metadata": {},
     "output_type": "execute_result"
    }
   ],
   "source": [
    "x = decoder.predict(np.expand_dims(Y_pred, axis=0))\n",
    "x.shape"
   ]
  },
  {
   "cell_type": "code",
   "execution_count": 35,
   "id": "c3dd51ae",
   "metadata": {},
   "outputs": [
    {
     "data": {
      "text/plain": [
       "[<matplotlib.lines.Line2D at 0x17b98689590>]"
      ]
     },
     "execution_count": 35,
     "metadata": {},
     "output_type": "execute_result"
    },
    {
     "data": {
      "image/png": "[encoded data removed]",
      "text/plain": [
       "<Figure size 640x480 with 1 Axes>"
      ]
     },
     "metadata": {},
     "output_type": "display_data"
    }
   ],
   "source": [
    "plt.plot(x[0])\n",
    "plt.plot(X_train[0][4500:9000])"
   ]
  },
  {
   "cell_type": "code",
   "execution_count": 253,
   "id": "bf864f7c",
   "metadata": {},
   "outputs": [
    {
     "name": "stdout",
     "output_type": "stream",
     "text": [
      "\u001b[1m1/1\u001b[0m \u001b[32m━━━━━━━━━━━━━━━━━━━━\u001b[0m\u001b[37m\u001b[0m \u001b[1m0s\u001b[0m 450ms/step\n"
     ]
    }
   ],
   "source": [
    "X_test_latent = encoder.predict(X_test)"
   ]
  },
  {
   "cell_type": "code",
   "execution_count": 256,
   "id": "dea9ae5d",
   "metadata": {},
   "outputs": [
    {
     "name": "stdout",
     "output_type": "stream",
     "text": [
      "\u001b[1m1/1\u001b[0m \u001b[32m━━━━━━━━━━━━━━━━━━━━\u001b[0m\u001b[37m\u001b[0m \u001b[1m0s\u001b[0m 47ms/step\n"
     ]
    }
   ],
   "source": [
    "Y_pred = esn.run(X_test_latent[-1,:900,:])\n",
    "result = decoder.predict(np.expand_dims(Y_pred, axis=0))"
   ]
  },
  {
   "cell_type": "code",
   "execution_count": 261,
   "id": "d8cb641b",
   "metadata": {},
   "outputs": [
    {
     "data": {
      "text/plain": [
       "[<matplotlib.lines.Line2D at 0x2443cb40690>]"
      ]
     },
     "execution_count": 261,
     "metadata": {},
     "output_type": "execute_result"
    },
    {
     "data": {
      "image/png": "[encoded data removed]",
      "text/plain": [
       "<Figure size 640x480 with 1 Axes>"
      ]
     },
     "metadata": {},
     "output_type": "display_data"
    }
   ],
   "source": [
    "plt.plot(result[0][:100],'-o')\n",
    "plt.plot(X_test[-1][:100],'-o')"
   ]
  },
  {
   "cell_type": "code",
   "execution_count": null,
   "id": "847cb63f",
   "metadata": {},
   "outputs": [],
   "source": []
  },
  {
   "cell_type": "code",
   "execution_count": null,
   "id": "9497d8a7",
   "metadata": {},
   "outputs": [],
   "source": []
  }
 ],
 "metadata": {
  "kernelspec": {
   "display_name": "Python (lstm)",
   "language": "python",
   "name": "lstm"
  },
  "language_info": {
   "codemirror_mode": {
    "name": "ipython",
    "version": 3
   },
   "file_extension": ".py",
   "mimetype": "text/x-python",
   "name": "python",
   "nbconvert_exporter": "python",
   "pygments_lexer": "ipython3",
   "version": "3.13.7"
  }
 },
 "nbformat": 4,
 "nbformat_minor": 5
}
